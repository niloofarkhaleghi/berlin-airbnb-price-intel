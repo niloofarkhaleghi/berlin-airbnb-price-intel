{
 "cells": [
  {
   "cell_type": "code",
   "execution_count": null,
   "id": "1a16dfe1",
   "metadata": {},
   "outputs": [],
   "source": [
    "import pandas as pd\n",
    "pd.set_option(\"display.max_columns\", 120)\n",
    "\n",
    "LISTINGS = \"../data/processed/listings_clean.csv\"\n",
    "CALENDAR = \"../data/raw/calendar.csv.gz\"\n",
    "\n",
    "listings = pd.read_csv(LISTINGS)\n",
    "listings.head(2), listings.shape\n"
   ]
  },
  {
   "cell_type": "code",
   "execution_count": null,
   "id": "4e1c6220",
   "metadata": {},
   "outputs": [],
   "source": [
    "cal = pd.read_csv(CALENDAR, low_memory=False, parse_dates=[\"date\"])\n",
    "cal.head(2), cal.shape, cal.columns.tolist()\n"
   ]
  },
  {
   "cell_type": "code",
   "execution_count": null,
   "id": "796eaff3",
   "metadata": {},
   "outputs": [],
   "source": [
    "cal[\"date\"] = pd.to_datetime(cal[\"date\"], errors=\"coerce\")\n",
    "cal[\"available\"] = cal[\"available\"].map({\"t\": True, \"f\": False})\n",
    "\n",
    "\n"
   ]
  },
  {
   "cell_type": "code",
   "execution_count": null,
   "id": "11f88308",
   "metadata": {},
   "outputs": [],
   "source": [
    "cutoff = cal[\"date\"].max() - pd.Timedelta(days=90)\n",
    "recent = cal[cal[\"date\"] >= cutoff]\n",
    "recent[\"available\"].isna().mean(), recent[\"date\"].min(), recent[\"date\"].max()\n",
    "\n",
    "\n",
    " \n",
    "\n",
    "\n"
   ]
  },
  {
   "cell_type": "code",
   "execution_count": null,
   "id": "4386f110",
   "metadata": {},
   "outputs": [],
   "source": [
    "# Hinweis: Calendar hat die Spalte 'listing_id'\n",
    "unavail = (recent.groupby(\"listing_id\")[\"available\"]\n",
    "                 .apply(lambda s: 1 - s.mean())\n",
    "                 .rename(\"unavailable_rate_90d\"))\n",
    "unavail.head()\n"
   ]
  },
  {
   "cell_type": "code",
   "execution_count": null,
   "id": "764ca3b5",
   "metadata": {},
   "outputs": [],
   "source": [
    "# Listings-Tabelle hat 'id' als Schlüssel\n",
    "merged = listings.merge(unavail, left_on=\"id\", right_index=True, how=\"left\")\n",
    "merged[\"unavailable_rate_90d\"] = merged[\"unavailable_rate_90d\"].fillna(0.0)  # falls kein Calendar-Verlauf\n",
    "merged.shape, merged[[\"price_eur\",\"unavailable_rate_90d\"]].head(3)\n"
   ]
  },
  {
   "cell_type": "code",
   "execution_count": null,
   "id": "52430452",
   "metadata": {},
   "outputs": [],
   "source": [
    "merged[\"unavailable_rate_90d\"].describe()\n",
    "merged[[\"price_eur\",\"unavailable_rate_90d\"]].corr()\n"
   ]
  },
  {
   "cell_type": "code",
   "execution_count": null,
   "id": "2234d6f5",
   "metadata": {},
   "outputs": [],
   "source": [
    "OUT = \"../data/processed/merged.csv\"\n",
    "merged.to_csv(OUT, index=False)\n",
    "OUT\n"
   ]
  },
  {
   "cell_type": "markdown",
   "id": "966a932f",
   "metadata": {},
   "source": [
    "- Demand-Proxy = Anteil der Tage in den letzten 90 Tagen, an denen das Listing NICHT verfügbar war.\n",
    "- Caveat: \"unavailable\" enthält sowohl gebuchte als auch host-blockierte Tage.\n"
   ]
  }
 ],
 "metadata": {
  "kernelspec": {
   "display_name": "Python 3",
   "language": "python",
   "name": "python3"
  },
  "language_info": {
   "codemirror_mode": {
    "name": "ipython",
    "version": 3
   },
   "file_extension": ".py",
   "mimetype": "text/x-python",
   "name": "python",
   "nbconvert_exporter": "python",
   "pygments_lexer": "ipython3",
   "version": "3.12.10"
  }
 },
 "nbformat": 4,
 "nbformat_minor": 5
}
