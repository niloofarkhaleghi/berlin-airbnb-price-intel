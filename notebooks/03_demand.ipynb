{
 "cells": [
  {
   "cell_type": "code",
   "execution_count": 2,
   "id": "1a16dfe1",
   "metadata": {},
   "outputs": [
    {
     "data": {
      "text/plain": [
       "(     id  latitude  longitude   neighbourhood_cleansed        room_type  \\\n",
       " 0  3176  52.53471   13.41810  Prenzlauer Berg Südwest  Entire home/apt   \n",
       " 1  9991  52.53269   13.41805  Prenzlauer Berg Südwest  Entire home/apt   \n",
       " \n",
       "         property_type  accommodates  bedrooms  bathrooms_num  minimum_nights  \\\n",
       " 0  Entire rental unit             2       1.0            1.0              63   \n",
       " 1  Entire rental unit             7       4.0            2.5               6   \n",
       " \n",
       "    price_eur  review_scores_rating  number_of_reviews  \n",
       " 0      105.0                  4.63                149  \n",
       " 1      135.0                  5.00                  7  ,\n",
       " (9183, 13))"
      ]
     },
     "execution_count": 2,
     "metadata": {},
     "output_type": "execute_result"
    }
   ],
   "source": [
    "import pandas as pd\n",
    "pd.set_option(\"display.max_columns\", 120)\n",
    "\n",
    "LISTINGS = \"../data/processed/listings_clean.csv\"\n",
    "CALENDAR = \"../data/raw/calendar.csv.gz\"\n",
    "\n",
    "listings = pd.read_csv(LISTINGS)\n",
    "listings.head(2), listings.shape\n"
   ]
  },
  {
   "cell_type": "code",
   "execution_count": 3,
   "id": "4e1c6220",
   "metadata": {},
   "outputs": [
    {
     "data": {
      "text/plain": [
       "(   listing_id       date available  price  adjusted_price  minimum_nights  \\\n",
       " 0     1358910 2025-09-24         f    NaN             NaN               3   \n",
       " 1     1358910 2025-09-25         f    NaN             NaN               3   \n",
       " \n",
       "    maximum_nights  \n",
       " 0             365  \n",
       " 1             365  ,\n",
       " (5210011, 7),\n",
       " ['listing_id',\n",
       "  'date',\n",
       "  'available',\n",
       "  'price',\n",
       "  'adjusted_price',\n",
       "  'minimum_nights',\n",
       "  'maximum_nights'])"
      ]
     },
     "execution_count": 3,
     "metadata": {},
     "output_type": "execute_result"
    }
   ],
   "source": [
    "cal = pd.read_csv(CALENDAR, low_memory=False, parse_dates=[\"date\"])\n",
    "cal.head(2), cal.shape, cal.columns.tolist()\n"
   ]
  },
  {
   "cell_type": "code",
   "execution_count": 4,
   "id": "796eaff3",
   "metadata": {},
   "outputs": [],
   "source": [
    "cal[\"date\"] = pd.to_datetime(cal[\"date\"], errors=\"coerce\")\n",
    "cal[\"available\"] = cal[\"available\"].map({\"t\": True, \"f\": False})\n",
    "\n",
    "\n"
   ]
  },
  {
   "cell_type": "code",
   "execution_count": 5,
   "id": "11f88308",
   "metadata": {},
   "outputs": [
    {
     "data": {
      "text/plain": [
       "(np.float64(0.0),\n",
       " Timestamp('2026-06-25 00:00:00'),\n",
       " Timestamp('2026-09-23 00:00:00'))"
      ]
     },
     "execution_count": 5,
     "metadata": {},
     "output_type": "execute_result"
    }
   ],
   "source": [
    "cutoff = cal[\"date\"].max() - pd.Timedelta(days=90)\n",
    "recent = cal[cal[\"date\"] >= cutoff]\n",
    "recent[\"available\"].isna().mean(), recent[\"date\"].min(), recent[\"date\"].max()\n",
    "\n",
    "\n",
    "\n",
    "\n",
    "\n"
   ]
  },
  {
   "cell_type": "code",
   "execution_count": 6,
   "id": "4386f110",
   "metadata": {},
   "outputs": [
    {
     "data": {
      "text/plain": [
       "listing_id\n",
       "3176     0.000000\n",
       "9991     0.186813\n",
       "14325    0.000000\n",
       "17904    0.329670\n",
       "20858    1.000000\n",
       "Name: unavailable_rate_90d, dtype: float64"
      ]
     },
     "execution_count": 6,
     "metadata": {},
     "output_type": "execute_result"
    }
   ],
   "source": [
    "# Hinweis: Calendar hat die Spalte 'listing_id'\n",
    "unavail = (recent.groupby(\"listing_id\")[\"available\"]\n",
    "                 .apply(lambda s: 1 - s.mean())\n",
    "                 .rename(\"unavailable_rate_90d\"))\n",
    "unavail.head()\n"
   ]
  },
  {
   "cell_type": "code",
   "execution_count": 7,
   "id": "764ca3b5",
   "metadata": {},
   "outputs": [
    {
     "data": {
      "text/plain": [
       "((9183, 14),\n",
       "    price_eur  unavailable_rate_90d\n",
       " 0      105.0              0.000000\n",
       " 1      135.0              0.186813\n",
       " 2       75.0              0.000000)"
      ]
     },
     "execution_count": 7,
     "metadata": {},
     "output_type": "execute_result"
    }
   ],
   "source": [
    "# Listings-Tabelle hat 'id' als Schlüssel\n",
    "merged = listings.merge(unavail, left_on=\"id\", right_index=True, how=\"left\")\n",
    "merged[\"unavailable_rate_90d\"] = merged[\"unavailable_rate_90d\"].fillna(0.0)  # falls kein Calendar-Verlauf\n",
    "merged.shape, merged[[\"price_eur\",\"unavailable_rate_90d\"]].head(3)\n"
   ]
  },
  {
   "cell_type": "code",
   "execution_count": 37,
   "id": "52430452",
   "metadata": {},
   "outputs": [
    {
     "data": {
      "text/html": [
       "<div>\n",
       "<style scoped>\n",
       "    .dataframe tbody tr th:only-of-type {\n",
       "        vertical-align: middle;\n",
       "    }\n",
       "\n",
       "    .dataframe tbody tr th {\n",
       "        vertical-align: top;\n",
       "    }\n",
       "\n",
       "    .dataframe thead th {\n",
       "        text-align: right;\n",
       "    }\n",
       "</style>\n",
       "<table border=\"1\" class=\"dataframe\">\n",
       "  <thead>\n",
       "    <tr style=\"text-align: right;\">\n",
       "      <th></th>\n",
       "      <th>price_eur</th>\n",
       "      <th>unavailable_rate_90d</th>\n",
       "    </tr>\n",
       "  </thead>\n",
       "  <tbody>\n",
       "    <tr>\n",
       "      <th>price_eur</th>\n",
       "      <td>1.000000</td>\n",
       "      <td>-0.051409</td>\n",
       "    </tr>\n",
       "    <tr>\n",
       "      <th>unavailable_rate_90d</th>\n",
       "      <td>-0.051409</td>\n",
       "      <td>1.000000</td>\n",
       "    </tr>\n",
       "  </tbody>\n",
       "</table>\n",
       "</div>"
      ],
      "text/plain": [
       "                      price_eur  unavailable_rate_90d\n",
       "price_eur              1.000000             -0.051409\n",
       "unavailable_rate_90d  -0.051409              1.000000"
      ]
     },
     "execution_count": 37,
     "metadata": {},
     "output_type": "execute_result"
    }
   ],
   "source": [
    "merged[\"unavailable_rate_90d\"].describe()\n",
    "merged[[\"price_eur\",\"unavailable_rate_90d\"]].corr()\n"
   ]
  },
  {
   "cell_type": "code",
   "execution_count": 38,
   "id": "2234d6f5",
   "metadata": {},
   "outputs": [
    {
     "data": {
      "text/plain": [
       "'../data/processed/merged.csv'"
      ]
     },
     "execution_count": 38,
     "metadata": {},
     "output_type": "execute_result"
    }
   ],
   "source": [
    "OUT = \"../data/processed/merged.csv\"\n",
    "merged.to_csv(OUT, index=False)\n",
    "OUT\n"
   ]
  },
  {
   "cell_type": "markdown",
   "id": "966a932f",
   "metadata": {},
   "source": [
    "- Demand-Proxy = Anteil der Tage in den letzten 90 Tagen, an denen das Listing NICHT verfügbar war.\n",
    "- Caveat: \"unavailable\" enthält sowohl gebuchte als auch host-blockierte Tage.\n"
   ]
  }
 ],
 "metadata": {
  "kernelspec": {
   "display_name": "Python 3",
   "language": "python",
   "name": "python3"
  },
  "language_info": {
   "codemirror_mode": {
    "name": "ipython",
    "version": 3
   },
   "file_extension": ".py",
   "mimetype": "text/x-python",
   "name": "python",
   "nbconvert_exporter": "python",
   "pygments_lexer": "ipython3",
   "version": "3.12.10"
  }
 },
 "nbformat": 4,
 "nbformat_minor": 5
}
