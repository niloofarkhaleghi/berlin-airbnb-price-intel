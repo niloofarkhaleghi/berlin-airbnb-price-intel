{
 "cells": [
  {
   "cell_type": "code",
   "execution_count": null,
   "id": "0c80ca18",
   "metadata": {},
   "outputs": [],
   "source": [
    "import pandas as pd\n",
    "import matplotlib.pyplot as plt\n",
    "\n",
    "pd.set_option(\"display.max_columns\", 120)\n",
    "\n",
    "# Load listings data\n",
    "df = pd.read_csv(\"../data/raw/listings.csv.gz\", low_memory=False)\n",
    "df.head(3)\n"
   ]
  },
  {
   "cell_type": "code",
   "execution_count": null,
   "id": "e6119bbd",
   "metadata": {},
   "outputs": [],
   "source": [
    "df.shape\n",
    "df.info()\n"
   ]
  },
  {
   "cell_type": "code",
   "execution_count": null,
   "id": "319ffb7b",
   "metadata": {},
   "outputs": [],
   "source": [
    "df.isna().mean().sort_values(ascending=False).head(20)\n"
   ]
  },
  {
   "cell_type": "code",
   "execution_count": null,
   "id": "8b9fcb3d",
   "metadata": {},
   "outputs": [],
   "source": [
    "df = df.dropna(axis=1, how='all')\n"
   ]
  },
  {
   "cell_type": "code",
   "execution_count": null,
   "id": "e8820670",
   "metadata": {},
   "outputs": [],
   "source": [
    "price = (df[\"price\"].astype(str)\n",
    "         .str.replace(r\"[€$,]\", \"\", regex=True)\n",
    "         .str.replace(r\"\\s\", \"\", regex=True)\n",
    "         .astype(float))\n",
    "price.describe()\n"
   ]
  },
  {
   "cell_type": "code",
   "execution_count": null,
   "id": "6a78aea0",
   "metadata": {},
   "outputs": [],
   "source": [
    "for col in [\"room_type\",\"property_type\",\"neighbourhood_cleansed\"]:\n",
    "    if col in df.columns:\n",
    "        print(col, \"→\", df[col].nunique(), \"unique\")\n",
    "        print(df[col].value_counts().head(10), \"\\n\")\n"
   ]
  },
  {
   "cell_type": "markdown",
   "id": "8540948c",
   "metadata": {},
   "source": [
    "# Data Dictionary Draft\n",
    "- Target: price (to, be parsed as price_eur)\n",
    "- Features of interest:\n",
    "  - room_type, property_type, neighbourhood_cleansed\n",
    "  - accommodates, bedrooms, bathrooms_text, minimum_nights\n",
    "  - review_scores_rating, number_of_reviews\n",
    "  - latitude, longitude"
   ]
  },
  {
   "cell_type": "code",
   "execution_count": null,
   "id": "52739525",
   "metadata": {},
   "outputs": [],
   "source": []
  }
 ],
 "metadata": {
  "kernelspec": {
   "display_name": "Python 3",
   "language": "python",
   "name": "python3"
  },
  "language_info": {
   "codemirror_mode": {
    "name": "ipython",
    "version": 3
   },
   "file_extension": ".py",
   "mimetype": "text/x-python",
   "name": "python",
   "nbconvert_exporter": "python",
   "pygments_lexer": "ipython3",
   "version": "3.12.10"
  }
 },
 "nbformat": 4,
 "nbformat_minor": 5
}
