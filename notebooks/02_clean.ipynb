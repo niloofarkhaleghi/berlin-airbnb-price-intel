{
 "cells": [
  {
   "cell_type": "code",
   "execution_count": null,
   "id": "31b0000d",
   "metadata": {},
   "outputs": [],
   "source": [
    "import pandas as pd, numpy as np, re\n",
    "pd.set_option(\"display.max_columns\", 120)\n",
    "\n",
    "raw_path = \"../data/raw/listings.csv.gz\"\n",
    "df = pd.read_csv(raw_path, low_memory=False)\n",
    "len(df), df.columns[:12]\n"
   ]
  },
  {
   "cell_type": "code",
   "execution_count": null,
   "id": "88a98e8b",
   "metadata": {},
   "outputs": [],
   "source": [
    "df[\"price_eur\"] = (df[\"price\"].astype(str)\n",
    "                   .str.replace(r\"[€$,]\", \"\", regex=True)\n",
    "                   .str.replace(r\"\\s\", \"\", regex=True)\n",
    "                   .astype(float))\n",
    "df[\"price_eur\"].describe()\n"
   ]
  },
  {
   "cell_type": "code",
   "execution_count": null,
   "id": "9d37b442",
   "metadata": {},
   "outputs": [],
   "source": [
    "if \"bathrooms_text\" in df.columns:\n",
    "    df[\"bathrooms_num\"] = (df[\"bathrooms_text\"].astype(str)\n",
    "                           .str.extract(r\"(\\d+(\\.\\d+)?)\")[0]\n",
    "                           .astype(float))\n"
   ]
  },
  {
   "cell_type": "code",
   "execution_count": null,
   "id": "34dc8613",
   "metadata": {},
   "outputs": [],
   "source": [
    "keep = [\"id\",\"latitude\",\"longitude\",\"neighbourhood_cleansed\",\"room_type\",\"property_type\",\n",
    "        \"accommodates\",\"bedrooms\",\"bathrooms_num\",\"minimum_nights\",\"price_eur\",\n",
    "        \"review_scores_rating\",\"number_of_reviews\"]\n",
    "df = df[[c for c in keep if c in df.columns]].copy()\n",
    "df.head(3)\n"
   ]
  },
  {
   "cell_type": "code",
   "execution_count": null,
   "id": "19a45a84",
   "metadata": {},
   "outputs": [],
   "source": [
    "# drop rows missing essentials\n",
    "df = df.dropna(subset=[\"price_eur\",\"latitude\",\"longitude\"]).drop_duplicates(subset=[\"id\"])\n",
    "\n",
    "# cap extreme prices to 1st–99th percentile\n",
    "q1, q99 = df[\"price_eur\"].quantile([0.01, 0.99])\n",
    "df[\"price_eur\"] = df[\"price_eur\"].clip(q1, q99)\n",
    "\n",
    "# light NA imputation for numerics\n",
    "for col in [\"bedrooms\",\"bathrooms_num\",\"review_scores_rating\",\"number_of_reviews\",\"minimum_nights\",\"accommodates\"]:\n",
    "    if col in df.columns:\n",
    "        df[col] = df[col].fillna(df[col].median())\n",
    "\n",
    "df.describe().T.head(12)\n"
   ]
  },
  {
   "cell_type": "code",
   "execution_count": null,
   "id": "031f0921",
   "metadata": {},
   "outputs": [],
   "source": [
    "out_path = \"../data/processed/listings_clean.csv\"\n",
    "df.to_csv(out_path, index=False)\n",
    "out_path, df.shape\n"
   ]
  },
  {
   "cell_type": "markdown",
   "id": "1ca21ab2",
   "metadata": {},
   "source": [
    "- Preis als float geparst, Ausreißer auf 1.–99. Perzentil gecappt.\n",
    "- Wichtige Spalten ausgewählt; fehlende numerische Werte mit Median gefüllt.\n",
    "- Duplikate pro Listing-ID entfernt.\n"
   ]
  }
 ],
 "metadata": {
  "kernelspec": {
   "display_name": "Python 3",
   "language": "python",
   "name": "python3"
  },
  "language_info": {
   "codemirror_mode": {
    "name": "ipython",
    "version": 3
   },
   "file_extension": ".py",
   "mimetype": "text/x-python",
   "name": "python",
   "nbconvert_exporter": "python",
   "pygments_lexer": "ipython3",
   "version": "3.12.10"
  }
 },
 "nbformat": 4,
 "nbformat_minor": 5
}
