{
 "cells": [
  {
   "cell_type": "code",
   "execution_count": null,
   "id": "30c57ce0",
   "metadata": {},
   "outputs": [],
   "source": [
    "import pandas as pd\n",
    "import numpy as np\n",
    "\n",
    "PATH = \"../data/processed/merged.csv\"\n",
    "df = pd.read_csv(PATH).dropna(subset=[\"price_eur\"])\n",
    "\n",
    "print(\"Rows:\", len(df), \"| Cols:\", df.shape[1])\n",
    "df.head(2)\n"
   ]
  },
  {
   "cell_type": "code",
   "execution_count": null,
   "id": "d357984a",
   "metadata": {},
   "outputs": [],
   "source": [
    "# Zielvariable\n",
    "y = df[\"price_eur\"]\n",
    "\n",
    "# Kandidaten-Features (werden gefiltert, falls Spalten fehlen)\n",
    "feat_candidates = [\n",
    "    \"accommodates\",\"bedrooms\",\"bathrooms_num\",\"minimum_nights\",\n",
    "    \"review_scores_rating\",\"number_of_reviews\",\n",
    "    \"room_type\",\"property_type\",\"neighbourhood_cleansed\",\n",
    "    \"latitude\",\"longitude\",\"unavailable_rate_90d\"\n",
    "]\n",
    "feats = [c for c in feat_candidates if c in df.columns]\n",
    "X = df[feats].copy()\n",
    "\n",
    "print(\"Using features:\", feats)\n"
   ]
  },
  {
   "cell_type": "code",
   "execution_count": null,
   "id": "d4421e98",
   "metadata": {},
   "outputs": [],
   "source": [
    "# numerische NAs robust füllen (Median)\n",
    "num_cols = X.select_dtypes(include=[np.number]).columns\n",
    "for col in num_cols:\n",
    "    X[col] = X[col].fillna(X[col].median())\n",
    "\n",
    "cat_cols = X.select_dtypes(include=\"object\").columns.tolist()\n",
    "num_cols = [c for c in feats if c not in cat_cols]\n",
    "\n",
    "print(\"Categorical:\", cat_cols)\n",
    "print(\"Numeric    :\", num_cols)\n"
   ]
  },
  {
   "cell_type": "code",
   "execution_count": null,
   "id": "7808c894",
   "metadata": {},
   "outputs": [],
   "source": [
    "from sklearn.compose import ColumnTransformer\n",
    "from sklearn.preprocessing import OneHotEncoder\n",
    "\n",
    "pre = ColumnTransformer(\n",
    "    transformers=[(\"cat\", OneHotEncoder(handle_unknown=\"ignore\"), cat_cols)],\n",
    "    remainder=\"passthrough\"\n",
    ")\n",
    "pre\n"
   ]
  },
  {
   "cell_type": "code",
   "execution_count": null,
   "id": "9ca5d1fd",
   "metadata": {},
   "outputs": [],
   "source": [
    "from sklearn.pipeline import Pipeline\n",
    "from sklearn.ensemble import RandomForestRegressor\n",
    "from sklearn.linear_model import LinearRegression\n",
    "\n",
    "rf_pipe  = Pipeline([(\"pre\", pre),\n",
    "                     (\"model\", RandomForestRegressor(n_estimators=200, random_state=42, n_jobs=-1))])\n",
    "\n",
    "lin_pipe = Pipeline([(\"pre\", pre),\n",
    "                     (\"model\", LinearRegression())])\n",
    "rf_pipe, lin_pipe\n"
   ]
  },
  {
   "cell_type": "code",
   "execution_count": null,
   "id": "780041a7",
   "metadata": {},
   "outputs": [],
   "source": [
    "from sklearn.model_selection import cross_val_score\n",
    "\n",
    "rf_r2  = cross_val_score(rf_pipe,  X, y, cv=5, scoring=\"r2\", n_jobs=-1)\n",
    "lin_r2 = cross_val_score(lin_pipe, X, y, cv=5, scoring=\"r2\", n_jobs=-1)\n",
    "\n",
    "print(f\"RandomForest CV R²: {rf_r2.mean():.3f}  (+/- {rf_r2.std():.3f})\")\n",
    "print(f\"LinearRegression CV R²: {lin_r2.mean():.3f}  (+/- {lin_r2.std():.3f})\")\n"
   ]
  },
  {
   "cell_type": "code",
   "execution_count": null,
   "id": "b29787d8",
   "metadata": {},
   "outputs": [],
   "source": [
    "from sklearn.metrics import make_scorer, mean_absolute_error\n",
    "\n",
    "mae_scorer = make_scorer(mean_absolute_error, greater_is_better=False)\n",
    "\n",
    "rf_mae  = -cross_val_score(rf_pipe,  X, y, cv=5, scoring=mae_scorer, n_jobs=-1)\n",
    "lin_mae = -cross_val_score(lin_pipe, X, y, cv=5, scoring=mae_scorer, n_jobs=-1)\n",
    "\n",
    "print(f\"RandomForest CV MAE: €{rf_mae.mean():.2f}  (+/- {rf_mae.std():.2f})\")\n",
    "print(f\"LinearRegression CV MAE: €{lin_mae.mean():.2f}  (+/- {lin_mae.std():.2f})\")\n"
   ]
  },
  {
   "cell_type": "code",
   "execution_count": null,
   "id": "fe8eabf5",
   "metadata": {},
   "outputs": [],
   "source": [
    "import matplotlib.pyplot as plt\n",
    "\n",
    "labels = [\"RandomForest\", \"LinearRegression\"]\n",
    "r2_vals = [rf_r2.mean(), lin_r2.mean()]\n",
    "\n",
    "plt.figure(figsize=(5,3.2))\n",
    "plt.bar(labels, r2_vals)\n",
    "plt.title(\"CV R² (5-fold)\")\n",
    "plt.ylim(0, max(0.01, max(r2_vals)*1.15))\n",
    "plt.tight_layout()\n",
    "plt.savefig(\"../reports/figures/experiments_cv_r2.png\", dpi=160)\n",
    "plt.show()\n"
   ]
  }
 ],
 "metadata": {
  "kernelspec": {
   "display_name": ".venv",
   "language": "python",
   "name": "python3"
  },
  "language_info": {
   "codemirror_mode": {
    "name": "ipython",
    "version": 3
   },
   "file_extension": ".py",
   "mimetype": "text/x-python",
   "name": "python",
   "nbconvert_exporter": "python",
   "pygments_lexer": "ipython3",
   "version": "3.12.10"
  }
 },
 "nbformat": 4,
 "nbformat_minor": 5
}
