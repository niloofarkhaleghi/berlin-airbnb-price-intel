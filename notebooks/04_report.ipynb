{
 "cells": [
  {
   "cell_type": "code",
   "execution_count": null,
   "id": "ba6bc165",
   "metadata": {},
   "outputs": [],
   "source": [
    "import pandas as pd, numpy as np, matplotlib.pyplot as plt, seaborn as sns\n",
    "pd.set_option(\"display.max_columns\", 120)\n",
    "sns.set_theme(context=\"notebook\", style=\"whitegrid\")\n",
    "\n",
    "df = pd.read_csv(\"../data/processed/merged.csv\")\n",
    "print(df.shape)\n",
    "df.head(2)\n",
    "\n"
   ]
  },
  {
   "cell_type": "code",
   "execution_count": null,
   "id": "46308c6f",
   "metadata": {},
   "outputs": [],
   "source": [
    "plt.figure(figsize=(7,4))\n",
    "sns.histplot(df[\"price_eur\"], bins=40)\n",
    "plt.title(\"Verteilung: Preis (€ pro Nacht)\")\n",
    "plt.xlabel(\"Preis (€)\")\n",
    "plt.tight_layout()\n",
    "plt.savefig(\"../reports/figures/price_hist.png\", dpi=160)\n",
    "plt.show()\n"
   ]
  },
  {
   "cell_type": "code",
   "execution_count": null,
   "id": "7151021a",
   "metadata": {},
   "outputs": [],
   "source": [
    "if \"neighbourhood_cleansed\" in df:\n",
    "    med = (df.groupby(\"neighbourhood_cleansed\")[\"price_eur\"]\n",
    "             .median().sort_values(ascending=False).head(12)).iloc[::-1]\n",
    "    plt.figure(figsize=(8,5))\n",
    "    sns.barplot(x=med.values, y=med.index)\n",
    "    plt.title(\"Median-Preis (Top 12 Nachbarschaften)\")\n",
    "    plt.xlabel(\"Preis (€)\"); plt.ylabel(\"\")\n",
    "    plt.tight_layout()\n",
    "    plt.savefig(\"../reports/figures/price_by_neighbourhood_top12.png\", dpi=160)\n",
    "    plt.show()\n"
   ]
  },
  {
   "cell_type": "code",
   "execution_count": null,
   "id": "736de23a",
   "metadata": {},
   "outputs": [],
   "source": [
    "if \"accommodates\" in df:\n",
    "    plt.figure(figsize=(7,4))\n",
    "    sns.regplot(data=df, x=\"accommodates\", y=\"price_eur\",\n",
    "                scatter_kws={\"s\":7, \"alpha\":0.2}, line_kws={\"lw\":2})\n",
    "    plt.title(\"Preis vs. Kapazität (Trend)\")\n",
    "    plt.xlabel(\"Accommodates\"); plt.ylabel(\"Preis (€)\")\n",
    "    plt.tight_layout()\n",
    "    plt.savefig(\"../reports/figures/price_vs_accommodates.png\", dpi=160)\n",
    "    plt.show()\n"
   ]
  },
  {
   "cell_type": "code",
   "execution_count": null,
   "id": "dc0714d2",
   "metadata": {},
   "outputs": [],
   "source": [
    "# Korrelationen mit Preis berechnen\n",
    "numcorr = df.select_dtypes(include=[np.number]).corr(numeric_only=True)[\"price_eur\"].sort_values(ascending=False)\n",
    "\n",
    "# Top 10 (ohne price_eur selbst)\n",
    "top = numcorr.drop(\"price_eur\").head(10).sort_values()\n",
    "\n",
    "# Plot\n",
    "plt.figure(figsize=(8,6))\n",
    "sns.barplot(x=top.values, y=top.index, palette=\"viridis\" ,hue=top.index, legend=False)\n",
    "\n",
    "plt.title(\"Top 10 numerische Korrelationen mit Preis\", fontsize=14, weight=\"bold\", pad=15)\n",
    "plt.xlabel(\"Korrelationskoeffizient\", fontsize=12)\n",
    "plt.ylabel(\"\")\n",
    "plt.grid(axis=\"x\", linestyle=\"--\", alpha=0.5)\n",
    "sns.despine(left=True, bottom=True)\n",
    "\n",
    "plt.tight_layout()\n",
    "plt.savefig(\"../reports/figures/price_corr_top.png\", dpi=160)\n",
    "plt.show()\n",
    "\n"
   ]
  },
  {
   "cell_type": "markdown",
   "id": "f5362203",
   "metadata": {},
   "source": [
    "# Executive Summary\n",
    "- Preise konzentrieren sich im Bereich …–… € (bereinigt).\n",
    "- Entire Home/Apt hat deutlich höhere Medianpreise als Private Room.\n",
    "- Top-12 Nachbarschaften zeigen klare Preisunterschiede.\n",
    "- Preis steigt mit Kapazität; Review Score korreliert positiv (leicht).\n",
    "- Demand-Proxy = Näherung: \"unavailable\" enthält auch Host-Blockierungen.\n"
   ]
  }
 ],
 "metadata": {
  "kernelspec": {
   "display_name": "Python 3",
   "language": "python",
   "name": "python3"
  },
  "language_info": {
   "codemirror_mode": {
    "name": "ipython",
    "version": 3
   },
   "file_extension": ".py",
   "mimetype": "text/x-python",
   "name": "python",
   "nbconvert_exporter": "python",
   "pygments_lexer": "ipython3",
   "version": "3.12.10"
  }
 },
 "nbformat": 4,
 "nbformat_minor": 5
}
